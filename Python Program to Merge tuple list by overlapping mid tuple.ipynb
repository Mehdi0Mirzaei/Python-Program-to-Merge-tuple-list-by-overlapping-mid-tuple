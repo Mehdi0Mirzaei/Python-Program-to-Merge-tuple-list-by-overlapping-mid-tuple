{
 "cells": [
  {
   "cell_type": "code",
   "execution_count": 49,
   "id": "e088c299",
   "metadata": {},
   "outputs": [
    {
     "name": "stdout",
     "output_type": "stream",
     "text": [
      "The original list 1 is : [(4, 8), (19, 22), (28, 30), (91, 98)]\n",
      "The original list 2 is : [(10, 22), (23, 26), (15, 20), (52, 58)]\n",
      "Merged Tuples : [((19, 22), (23, 26), (28, 30)), ((4, 8), (15, 20), (19, 22)), ((28, 30), (52, 58), (91, 98))]\n"
     ]
    }
   ],
   "source": [
    "# initializing lists\n",
    "test_list1 = [(4, 8), (19, 22), (28, 30), (91, 98)]\n",
    "test_list2 = [(10, 22), (23, 26), (15, 20), (52, 58)]\n",
    " \n",
    "# printing original lists\n",
    "print(\"The original list 1 is : \" + str(test_list1))\n",
    "print(\"The original list 2 is : \" + str(test_list2))\n",
    " \n",
    "idx = 0\n",
    "j = 0\n",
    "res = list()\n",
    " \n",
    "# iterating till anyone of list exhausts.\n",
    "while j < len(test_list2):\n",
    " \n",
    "    # checking for mid tuple and appending\n",
    "    if test_list2[j][0] > test_list1[idx][0]\\\n",
    "    and test_list2[j][1] < test_list1[idx + 1][1]:\n",
    " \n",
    "        # appending the range element from 2nd list which \n",
    "        # fits consecution along with original elements \n",
    "        # from 1st list.\n",
    "        res.append((test_list1[idx], test_list2[j], test_list1[idx + 1]))\n",
    "        j += 1\n",
    "        idx = 0\n",
    "    else:\n",
    " \n",
    "        # if not, the 1st list is iterated and next two\n",
    "        # ranges are compared for a fit.\n",
    "        idx += 1\n",
    " \n",
    "    # restart indices once limits are checked.\n",
    "    if idx == len(test_list1) - 1:\n",
    "        idx = 0\n",
    "        j += 1\n",
    " \n",
    "# printing result\n",
    "print(\"Merged Tuples : \" + str(res))"
   ]
  },
  {
   "cell_type": "code",
   "execution_count": 50,
   "id": "5fb8e640",
   "metadata": {},
   "outputs": [
    {
     "name": "stdout",
     "output_type": "stream",
     "text": [
      "Merged Tuples : [((4, 8), (10, 22), (28, 30)), ((4, 8), (10, 22), (91, 98)), ((4, 8), (23, 26), (28, 30)), ((4, 8), (23, 26), (91, 98)), ((4, 8), (15, 20), (19, 22)), ((4, 8), (15, 20), (28, 30)), ((4, 8), (15, 20), (91, 98)), ((4, 8), (52, 58), (91, 98)), ((19, 22), (23, 26), (28, 30)), ((19, 22), (23, 26), (91, 98)), ((19, 22), (52, 58), (91, 98)), ((28, 30), (52, 58), (91, 98))]\n"
     ]
    }
   ],
   "source": [
    "# initializing lists\n",
    "test_list1 = [(4, 8), (19, 22), (28, 30), (91, 98)]\n",
    "test_list2 = [(10, 22), (23, 26), (15, 20), (52, 58)]\n",
    " \n",
    "# creating a new list using list comprehension\n",
    "res = [(t1, t2, t3) for t1 in test_list1 for t2 in test_list2 for t3 in test_list1       if t2[0] > t1[0] and t2[1] < t3[1] and t3[0] > t2[0] and t3[1] > t2[1]]\n",
    " \n",
    "# printing result\n",
    "print(\"Merged Tuples : \" + str(res))"
   ]
  },
  {
   "cell_type": "code",
   "execution_count": 51,
   "id": "74fd1cf9",
   "metadata": {},
   "outputs": [
    {
     "name": "stdout",
     "output_type": "stream",
     "text": [
      "Merged Tuples : [(10, 22), (10, 22), (23, 26), (28, 30), (52, 58), (91, 98)]\n"
     ]
    }
   ],
   "source": [
    "import heapq\n",
    " \n",
    "test_list1 = [(4, 8), (19, 22), (28, 30), (91, 98)]\n",
    "test_list2 = [(10, 22), (23, 26), (15, 20), (52, 58)]\n",
    " \n",
    "# combine both lists\n",
    "combined_list = test_list1 + test_list2\n",
    " \n",
    "# sort the combined list by the starting index of the tuple\n",
    "combined_list.sort(key=lambda x: x[0])\n",
    " \n",
    "# create a heap and add the first tuple\n",
    "heap = [combined_list[0]]\n",
    " \n",
    "# initialize the result list\n",
    "res = []\n",
    " \n",
    "# iterate over the remaining tuples\n",
    "for i in range(1, len(combined_list)):\n",
    "    # get the current tuple\n",
    "    curr_tuple = combined_list[i]\n",
    "     \n",
    "    # if the current tuple overlaps with the last tuple in the heap\n",
    "    if curr_tuple[0] <= heap[-1][1]:\n",
    "        # merge the current tuple with the last tuple in the heap\n",
    "        merged_tuple = (heap[-1][0], max(heap[-1][1], curr_tuple[1]))\n",
    "        # remove the last tuple from the heap\n",
    "        heapq.heappop(heap)\n",
    "        # add the merged tuple to the heap\n",
    "        heapq.heappush(heap, merged_tuple)\n",
    "    else:\n",
    "        # add the current tuple to the heap\n",
    "        heapq.heappush(heap, curr_tuple)\n",
    " \n",
    "# iterate over the heap and append the tuples to the result list\n",
    "while heap:\n",
    "    res.append(heapq.heappop(heap))\n",
    " \n",
    "# printing result\n",
    "print(\"Merged Tuples : \" + str(res))"
   ]
  },
  {
   "cell_type": "code",
   "execution_count": 52,
   "id": "bcffa70f",
   "metadata": {},
   "outputs": [
    {
     "name": "stdout",
     "output_type": "stream",
     "text": [
      "The original list 1 is : [(4, 8), (19, 22), (28, 30), (91, 98)]\n",
      "The original list 2 is : [(10, 22), (23, 26), (15, 20), (52, 58)]\n",
      "Merged Tuples : [(4, 8), (19, 22), (10, 22), (15, 20), (28, 30), (91, 98), (23, 26), (52, 58)]\n"
     ]
    }
   ],
   "source": [
    "def merge_tuple_lists(test_list1, test_list2):\n",
    "    # initialize dictionary to store grouped tuples\n",
    "    groups = {}\n",
    " \n",
    "    # loop through tuples in both lists\n",
    "    for tup in test_list1 + test_list2:\n",
    "        merged = False\n",
    "        # check if the current tuple overlaps with any group\n",
    "        for group in groups.values():\n",
    "            if group[-1][1] >= tup[0] and group[0][0] <= tup[1]:\n",
    "                # merge the tuples\n",
    "                group.append(tup)\n",
    "                merged = True\n",
    "                break\n",
    "        # if the tuple does not overlap with any group, create a new group\n",
    "        if not merged:\n",
    "            groups[len(groups)] = [tup]\n",
    " \n",
    "    # convert dictionary values to a list of tuples\n",
    "    res = [t for group in groups.values() for t in group]\n",
    " \n",
    "    return res\n",
    " \n",
    "# initializing lists\n",
    "test_list1 = [(4, 8), (19, 22), (28, 30), (91, 98)]\n",
    "test_list2 = [(10, 22), (23, 26), (15, 20), (52, 58)]\n",
    " \n",
    "# printing original lists\n",
    "print(\"The original list 1 is : \" + str(test_list1))\n",
    "print(\"The original list 2 is : \" + str(test_list2))\n",
    " \n",
    "res = merge_tuple_lists(test_list1, test_list2)\n",
    " \n",
    "print(\"Merged Tuples : \" + str(res))"
   ]
  },
  {
   "cell_type": "code",
   "execution_count": null,
   "id": "809bf354",
   "metadata": {},
   "outputs": [],
   "source": []
  }
 ],
 "metadata": {
  "kernelspec": {
   "display_name": "Python 3 (ipykernel)",
   "language": "python",
   "name": "python3"
  },
  "language_info": {
   "codemirror_mode": {
    "name": "ipython",
    "version": 3
   },
   "file_extension": ".py",
   "mimetype": "text/x-python",
   "name": "python",
   "nbconvert_exporter": "python",
   "pygments_lexer": "ipython3",
   "version": "3.9.13"
  }
 },
 "nbformat": 4,
 "nbformat_minor": 5
}
